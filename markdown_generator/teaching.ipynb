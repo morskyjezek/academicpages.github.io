{
 "cells": [
  {
   "cell_type": "markdown",
   "metadata": {
    "deletable": true,
    "editable": true
   },
   "source": [
    "# Teaching markdown generator for academicpages\n",
    "\n",
    "Takes a CSV of teaching experience with metadata and converts them for use with [academicpages.github.io](academicpages.github.io). This is an interactive Jupyter notebook ([see more info here](http://jupyter-notebook-beginner-guide.readthedocs.io/en/latest/what_is_jupyter.html)). Run either from the `markdown_generator` folder after replacing `teaching.csv` with one containing your data."
   ]
  },
  {
   "cell_type": "code",
   "execution_count": 3,
   "metadata": {
    "collapsed": false,
    "deletable": true,
    "editable": true,
    "jupyter": {
     "outputs_hidden": false
    }
   },
   "outputs": [],
   "source": [
    "import pandas as pd\n",
    "import os"
   ]
  },
  {
   "cell_type": "markdown",
   "metadata": {},
   "source": [
    "## Data format\n",
    "\n",
    "The CSV needs to have the following columns: title, type, url_slug, venue, date, location, description, with a header at the top. Many of these fields can be blank, but the columns must be in the CSV.\n",
    "\n",
    "- Fields that cannot be blank: `title`, `url_slug`, `date`. All else can be blank. `collection` defaults to \"teaching\" \n",
    "- `date` must be formatted as YYYY-MM-DD.\n",
    "- `url_slug` will be the descriptive part of the .md file and the permalink URL for the page about the paper. \n",
    "    - The .md file will be `YYYY-MM-DD-[url_slug].md` and the permalink will be `https://[yourdomain]/teaching/YYYY-MM-DD-[url_slug]`\n",
    "    - The combination of `url_slug` and `date` must be unique, as it will be the basis for your filenames\n",
    "\n",
    "This is how the raw file looks (it doesn't look pretty, use a spreadsheet or other program to edit and create)."
   ]
  },
  {
   "cell_type": "code",
   "execution_count": 6,
   "metadata": {
    "collapsed": false,
    "jupyter": {
     "outputs_hidden": false
    }
   },
   "outputs": [
    {
     "name": "stdout",
     "output_type": "stream",
     "text": [
      "title,type,url_slug,venue,date,location,description\n",
      "Implementing Digital Curation (INST 742),Graduate course,implementing-digital-curation,University of Maryland,2019-01-01,\"College Park, MD\",This graduate course explored advanced techniques for managing digital projects for students training to become archivists and librarians. The [2019 syllabus is available here](https://goo.gl/udK14A).\n",
      "Implementing Digital Curation (INST 742),Graduate course,implementing-digital-curation,University of Maryland,2018-01-01,\"College Park, MD\",This graduate course explored advanced techniques for managing digital projects for students training to become archivists and librarians. The [2018 syllabus is available here](https://goo.gl/NuxV6y).\n",
      "Digital Preservation (LBSC 784),Graduate course,digital-preservation,University of Maryland,2015-09-01,\"College Park, MD\",This graduate course taught the fundamentals of digital preservation for Master's students in the library and archvies tracks at the Maryland iSchool. The [2015 syllabus is available here](https://goo.gl/qH2nI1).\n",
      "Administration of Archives and Manuscripts (History 690),Graduate course,intro-to-archives,George Mason University,2016-09-01,\"Fairfax, VA\",\"This graudate course introduced the principles and concepts necessary for managing and understanding archival collections, with a focus on translating the skills of public historians to work in archives. The [2016 syllabus is available here](https://goo.gl/cf6UjG).\"\n",
      "Music Bibliography (MHM 503),Graduate course,music-bibliography,University of Michigan,2012-09-01,\"Ann Arbor, MI\",This syllabus outlines a graduate course for music performers and researchers to understand the major reference resources and concepts for designing and carrying out music-focused research. The 2012 syllabus is available here](http://www-personal.umich.edu/~jajohnst/courses/mhm503-2012/).\n",
      "Music of World Cultures,Undergraduate course,music-of-world-cultures,Bowling Green State University,2009-09-01,\"Bowling Green, OH\",\"This course surveyed selected traditional and popular music cultures from around the globe, while also teaching basic listening and writing skills.\"\n",
      "Music of World Cultures,Undergraduate course,music-of-world-cultures,Bowling Green State University,2010-01-01,\"Bowling Green, OH\",\"This course surveyed selected traditional and popular music cultures from around the globe, while also teaching basic listening and writing skills.\""
     ]
    }
   ],
   "source": [
    "!cat teaching.csv"
   ]
  },
  {
   "cell_type": "markdown",
   "metadata": {},
   "source": [
    "## Import CSV\n",
    "\n",
    "Pandas makes this easy with the `read_csv` function. We are using a CSV, so we specify the separator as a comma, or `,`.\n",
    "\n",
    "I found it important to put this data in a tab-separated values format, because there are a lot of commas in this kind of data and comma-separated values can get messed up. However, you can modify the import statement, as pandas also has read_excel(), read_json(), and others."
   ]
  },
  {
   "cell_type": "code",
   "execution_count": 7,
   "metadata": {
    "collapsed": false,
    "deletable": true,
    "editable": true,
    "jupyter": {
     "outputs_hidden": false
    }
   },
   "outputs": [
    {
     "data": {
      "text/html": [
       "<div>\n",
       "<style scoped>\n",
       "    .dataframe tbody tr th:only-of-type {\n",
       "        vertical-align: middle;\n",
       "    }\n",
       "\n",
       "    .dataframe tbody tr th {\n",
       "        vertical-align: top;\n",
       "    }\n",
       "\n",
       "    .dataframe thead th {\n",
       "        text-align: right;\n",
       "    }\n",
       "</style>\n",
       "<table border=\"1\" class=\"dataframe\">\n",
       "  <thead>\n",
       "    <tr style=\"text-align: right;\">\n",
       "      <th></th>\n",
       "      <th>title</th>\n",
       "      <th>type</th>\n",
       "      <th>url_slug</th>\n",
       "      <th>venue</th>\n",
       "      <th>date</th>\n",
       "      <th>location</th>\n",
       "      <th>description</th>\n",
       "    </tr>\n",
       "  </thead>\n",
       "  <tbody>\n",
       "    <tr>\n",
       "      <th>0</th>\n",
       "      <td>Implementing Digital Curation (INST 742)</td>\n",
       "      <td>Graduate course</td>\n",
       "      <td>implementing-digital-curation</td>\n",
       "      <td>University of Maryland</td>\n",
       "      <td>2019-01-01</td>\n",
       "      <td>College Park, MD</td>\n",
       "      <td>This graduate course explored advanced techniq...</td>\n",
       "    </tr>\n",
       "    <tr>\n",
       "      <th>1</th>\n",
       "      <td>Implementing Digital Curation (INST 742)</td>\n",
       "      <td>Graduate course</td>\n",
       "      <td>implementing-digital-curation</td>\n",
       "      <td>University of Maryland</td>\n",
       "      <td>2018-01-01</td>\n",
       "      <td>College Park, MD</td>\n",
       "      <td>This graduate course explored advanced techniq...</td>\n",
       "    </tr>\n",
       "    <tr>\n",
       "      <th>2</th>\n",
       "      <td>Digital Preservation (LBSC 784)</td>\n",
       "      <td>Graduate course</td>\n",
       "      <td>digital-preservation</td>\n",
       "      <td>University of Maryland</td>\n",
       "      <td>2015-09-01</td>\n",
       "      <td>College Park, MD</td>\n",
       "      <td>This graduate course taught the fundamentals o...</td>\n",
       "    </tr>\n",
       "    <tr>\n",
       "      <th>3</th>\n",
       "      <td>Administration of Archives and Manuscripts (Hi...</td>\n",
       "      <td>Graduate course</td>\n",
       "      <td>intro-to-archives</td>\n",
       "      <td>George Mason University</td>\n",
       "      <td>2016-09-01</td>\n",
       "      <td>Fairfax, VA</td>\n",
       "      <td>This graudate course introduced the principles...</td>\n",
       "    </tr>\n",
       "    <tr>\n",
       "      <th>4</th>\n",
       "      <td>Music Bibliography (MHM 503)</td>\n",
       "      <td>Graduate course</td>\n",
       "      <td>music-bibliography</td>\n",
       "      <td>University of Michigan</td>\n",
       "      <td>2012-09-01</td>\n",
       "      <td>Ann Arbor, MI</td>\n",
       "      <td>This syllabus outlines a graduate course for m...</td>\n",
       "    </tr>\n",
       "    <tr>\n",
       "      <th>5</th>\n",
       "      <td>Music of World Cultures</td>\n",
       "      <td>Undergraduate course</td>\n",
       "      <td>music-of-world-cultures</td>\n",
       "      <td>Bowling Green State University</td>\n",
       "      <td>2009-09-01</td>\n",
       "      <td>Bowling Green, OH</td>\n",
       "      <td>This course surveyed selected traditional and ...</td>\n",
       "    </tr>\n",
       "    <tr>\n",
       "      <th>6</th>\n",
       "      <td>Music of World Cultures</td>\n",
       "      <td>Undergraduate course</td>\n",
       "      <td>music-of-world-cultures</td>\n",
       "      <td>Bowling Green State University</td>\n",
       "      <td>2010-01-01</td>\n",
       "      <td>Bowling Green, OH</td>\n",
       "      <td>This course surveyed selected traditional and ...</td>\n",
       "    </tr>\n",
       "  </tbody>\n",
       "</table>\n",
       "</div>"
      ],
      "text/plain": [
       "                                               title                  type  \\\n",
       "0           Implementing Digital Curation (INST 742)       Graduate course   \n",
       "1           Implementing Digital Curation (INST 742)       Graduate course   \n",
       "2                    Digital Preservation (LBSC 784)       Graduate course   \n",
       "3  Administration of Archives and Manuscripts (Hi...       Graduate course   \n",
       "4                       Music Bibliography (MHM 503)       Graduate course   \n",
       "5                            Music of World Cultures  Undergraduate course   \n",
       "6                            Music of World Cultures  Undergraduate course   \n",
       "\n",
       "                        url_slug                           venue        date  \\\n",
       "0  implementing-digital-curation          University of Maryland  2019-01-01   \n",
       "1  implementing-digital-curation          University of Maryland  2018-01-01   \n",
       "2           digital-preservation          University of Maryland  2015-09-01   \n",
       "3              intro-to-archives         George Mason University  2016-09-01   \n",
       "4             music-bibliography          University of Michigan  2012-09-01   \n",
       "5        music-of-world-cultures  Bowling Green State University  2009-09-01   \n",
       "6        music-of-world-cultures  Bowling Green State University  2010-01-01   \n",
       "\n",
       "            location                                        description  \n",
       "0   College Park, MD  This graduate course explored advanced techniq...  \n",
       "1   College Park, MD  This graduate course explored advanced techniq...  \n",
       "2   College Park, MD  This graduate course taught the fundamentals o...  \n",
       "3        Fairfax, VA  This graudate course introduced the principles...  \n",
       "4      Ann Arbor, MI  This syllabus outlines a graduate course for m...  \n",
       "5  Bowling Green, OH  This course surveyed selected traditional and ...  \n",
       "6  Bowling Green, OH  This course surveyed selected traditional and ...  "
      ]
     },
     "execution_count": 7,
     "metadata": {},
     "output_type": "execute_result"
    }
   ],
   "source": [
    "teaching = pd.read_csv(\"teaching.csv\", sep=\",\", header=0)\n",
    "teaching"
   ]
  },
  {
   "cell_type": "markdown",
   "metadata": {},
   "source": [
    "## Escape special characters\n",
    "\n",
    "YAML is very picky about how it takes a valid string, so we are replacing single and double quotes (and ampersands) with their HTML encoded equivilents. This makes them look not so readable in raw format, but they are parsed and rendered nicely."
   ]
  },
  {
   "cell_type": "code",
   "execution_count": 5,
   "metadata": {
    "collapsed": false,
    "deletable": true,
    "editable": true,
    "jupyter": {
     "outputs_hidden": false
    }
   },
   "outputs": [],
   "source": [
    "html_escape_table = {\n",
    "    \"&\": \"&amp;\",\n",
    "    '\"': \"&quot;\",\n",
    "    \"'\": \"&apos;\"\n",
    "    }\n",
    "\n",
    "def html_escape(text):\n",
    "    if type(text) is str:\n",
    "        return \"\".join(html_escape_table.get(c,c) for c in text)\n",
    "    else:\n",
    "        return \"False\""
   ]
  },
  {
   "cell_type": "markdown",
   "metadata": {},
   "source": [
    "## Creating the markdown files\n",
    "\n",
    "This is where the heavy lifting is done. This loops through all the rows in the TSV dataframe, then starts to concatentate a big string (```md```) that contains the markdown for each type. It does the YAML metadata first, then does the description for the individual page."
   ]
  },
  {
   "cell_type": "code",
   "execution_count": 10,
   "metadata": {
    "collapsed": false,
    "deletable": true,
    "editable": true,
    "jupyter": {
     "outputs_hidden": false
    }
   },
   "outputs": [],
   "source": [
    "loc_dict = {}\n",
    "\n",
    "for row, item in teaching.iterrows():\n",
    "    \n",
    "    md_filename = str(item.date) + \"-\" + item.url_slug + \".md\"\n",
    "    html_filename = str(item.date) + \"-\" + item.url_slug \n",
    "    year = item.date[:4]\n",
    "    \n",
    "    md = \"---\\ntitle: \\\"\"   + item.title + '\"\\n'\n",
    "    md += \"collection: teaching\" + \"\\n\"\n",
    "    \n",
    "    if len(str(item.type)) > 3:\n",
    "        md += 'type: \"' + item.type + '\"\\n'\n",
    "    else:\n",
    "        md += 'type: \"Course\"\\n'\n",
    "    \n",
    "    md += \"permalink: /teaching/\" + html_filename + \"\\n\"\n",
    "    \n",
    "    if len(str(item.venue)) > 3:\n",
    "        md += 'venue: \"' + item.venue + '\"\\n'\n",
    "        \n",
    "    if len(str(item.date)) > 3:\n",
    "        md += \"date: \" + str(item.date) + \"\\n\"\n",
    "    \n",
    "    if len(str(item.location)) > 3:\n",
    "        md += 'location: \"' + str(item.location) + '\"\\n'\n",
    "           \n",
    "    md += \"---\\n\"\n",
    "    \n",
    "\n",
    "    if len(str(item.description)) > 3:\n",
    "        md += \"\\n\" + html_escape(item.description) + \"\\n\"\n",
    "        \n",
    "        \n",
    "    md_filename = os.path.basename(md_filename)\n",
    "    #print(md)\n",
    "    \n",
    "    with open(\"../_teaching/\" + md_filename, 'w') as f:\n",
    "        f.write(md)"
   ]
  },
  {
   "cell_type": "markdown",
   "metadata": {},
   "source": [
    "These files are in the teaching directory, one directory below where we're working from."
   ]
  },
  {
   "cell_type": "code",
   "execution_count": 11,
   "metadata": {
    "collapsed": false,
    "deletable": true,
    "editable": true,
    "jupyter": {
     "outputs_hidden": false
    }
   },
   "outputs": [
    {
     "name": "stdout",
     "output_type": "stream",
     "text": [
      "2009-09-01-music-of-world-cultures.md\n",
      "2010-01-01-music-of-world-cultures.md\n",
      "2012-09-01-music-bibliography.md\n",
      "2015-09-01-digital-preservation.md\n",
      "2016-09-01-intro-to-archives.md\n",
      "2018-01-01-implementing-digital-curation.md\n",
      "2019-01-01-implementing-digital-curation.md\n"
     ]
    }
   ],
   "source": [
    "!ls ../_teaching"
   ]
  },
  {
   "cell_type": "code",
   "execution_count": 13,
   "metadata": {
    "collapsed": false,
    "deletable": true,
    "editable": true,
    "jupyter": {
     "outputs_hidden": false
    }
   },
   "outputs": [
    {
     "name": "stdout",
     "output_type": "stream",
     "text": [
      "---\n",
      "title: \"Music of World Cultures\"\n",
      "collection: teaching\n",
      "type: \"Undergraduate course\"\n",
      "permalink: /teaching/2009-09-01-music-of-world-cultures\n",
      "venue: \"Bowling Green State University\"\n",
      "date: 2009-09-01\n",
      "location: \"Bowling Green, OH\"\n",
      "---\n",
      "\n",
      "This course surveyed selected traditional and popular music cultures from around the globe, while also teaching basic listening and writing skills.\n"
     ]
    }
   ],
   "source": [
    "!cat ../_teaching/2009-09-01-music-of-world-cultures.md"
   ]
  }
 ],
 "metadata": {
  "kernelspec": {
   "display_name": "Python 3",
   "language": "python",
   "name": "python3"
  },
  "language_info": {
   "codemirror_mode": {
    "name": "ipython",
    "version": 3
   },
   "file_extension": ".py",
   "mimetype": "text/x-python",
   "name": "python",
   "nbconvert_exporter": "python",
   "pygments_lexer": "ipython3",
   "version": "3.7.6"
  }
 },
 "nbformat": 4,
 "nbformat_minor": 4
}
